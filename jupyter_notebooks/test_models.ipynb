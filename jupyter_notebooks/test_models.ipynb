{
 "cells": [
  {
   "cell_type": "code",
   "execution_count": 2,
   "metadata": {},
   "outputs": [
    {
     "name": "stdout",
     "output_type": "stream",
     "text": [
      "/home/chenxupeng/projects/deepshape\n"
     ]
    }
   ],
   "source": [
    "cd /home/chenxupeng/projects/deepshape/"
   ]
  },
  {
   "cell_type": "code",
   "execution_count": null,
   "metadata": {},
   "outputs": [],
   "source": [
    "import keras as K\n",
    "import seaborn as sns\n",
    "from keras.callbacks import TensorBoard\n",
    "from keras.callbacks import EarlyStopping\n",
    "from keras.optimizers import Adam\n",
    "from keras.callbacks import ModelCheckpoint\n",
    "import tensorflow as tf\n",
    "import matplotlib.pyplot as plt\n",
    "%pylab inline\n",
    "os.environ[\"CUDA_DEVICE_ORDER\"] = \"PCI_BUS_ID\" # so the IDs match nvidia-smi\n",
    "os.environ[\"CUDA_VISIBLE_DEVICES\"] = \"5\"\n",
    "import tensorflow as tf\n",
    "from keras.backend.tensorflow_backend import set_session\n",
    "config = tf.ConfigProto()\n",
    "config.gpu_options.per_process_gpu_memory_fraction = 0.99\n",
    "set_session(tf.Session(config=config))\n",
    "from keras.models import load_model\n",
    "from keras.utils.generic_utils import get_custom_objects\n",
    "from unet_128_model_row_column import *"
   ]
  },
  {
   "cell_type": "code",
   "execution_count": 3,
   "metadata": {},
   "outputs": [
    {
     "name": "stderr",
     "output_type": "stream",
     "text": [
      "/home/chenxupeng/apps/anaconda2/lib/python2.7/site-packages/h5py/__init__.py:36: FutureWarning: Conversion of the second argument of issubdtype from `float` to `np.floating` is deprecated. In future, it will be treated as `np.float64 == np.dtype(float).type`.\n",
      "  from ._conv import register_converters as _register_converters\n"
     ]
    }
   ],
   "source": [
    "import argparse, sys, os, errno\n",
    "sys.path.append('bin')\n",
    "import numpy as np\n",
    "import h5py\n",
    "from Bio import SeqIO\n",
    "from Bio.Seq import Seq\n",
    "from Bio.SeqRecord import SeqRecord\n",
    "import numpy as np\n",
    "from glob import glob\n",
    "import pandas as pd\n",
    "import matplotlib.pyplot as plt\n",
    "import seaborn as sns\n",
    "import h5py\n",
    "from tqdm import tqdm\n",
    "import warnings\n",
    "warnings.filterwarnings('ignore')"
   ]
  },
  {
   "cell_type": "markdown",
   "metadata": {},
   "source": [
    "# prepare data \n",
    "pictures_540  <br>\n",
    "and use final_acc.py to test models <br>\n",
    "note to change save path!"
   ]
  },
  {
   "cell_type": "code",
   "execution_count": null,
   "metadata": {},
   "outputs": [],
   "source": [
    "ic_shape = {}\n",
    "with h5py.File('known/known.h5') as f:\n",
    "    for i in tqdm(range(540)):\n",
    "        ic_shape[i] = f['known'][f['start'][i]:f['end'][i]]\n",
    "    icshape = np.array([value for (key,value) in ic_shape.iteritems()])\n",
    "    name = f['name'][:]\n",
    "with h5py.File('known/known.h5') as f:\n",
    "    names = f['name'][:]\n",
    "record_dict = SeqIO.to_dict(SeqIO.parse(\"known/sequences.fa\", \"fasta\"))\n",
    "sequences = {}\n",
    "for i in range(540):\n",
    "    sequences[i] = record_dict[names[i]].seq.tostring()\n",
    "class Onehot(object):\n",
    "    def __init__(self, alphabet='ATCG'):\n",
    "        self.transtable = np.zeros(128, np.int64)\n",
    "        self.transtable[[ord(a) for a in alphabet]] = range(len(alphabet))\n",
    "        self.alphabet = np.frombuffer(alphabet, np.int8)\n",
    "    def encode(self, seq):\n",
    "        seq_int = self.transtable[np.frombuffer(seq, np.int8)]\n",
    "        encoded = np.zeros((len(seq), len(self.alphabet)), np.int8)\n",
    "        encoded[np.r_[:len(seq)], seq_int] = 1\n",
    "        return encoded\n",
    "    def decode(self, a):\n",
    "        return self.alphabet[np.argmax(a, axis=1)].tostring()\n",
    "onehot = Onehot()\n",
    "\n",
    "fillarr = np.repeat(0.25,64*4).reshape(-1,4)\n",
    "\n",
    "imshow(np.repeat(onehot.encode(sequences[0]),50).reshape(-1,200))\n",
    "imshow(np.repeat(np.concatenate((fillarr,onehot.encode(sequences[0]),fillarr)),50).reshape(-1,200))\n",
    "onehotarr = {}\n",
    "for i in range(540):\n",
    "    onehotarr[i] = np.concatenate((fillarr,onehot.encode(sequences[i]),fillarr))\n",
    "def getfrag(data):\n",
    "    '''\n",
    "    data: length*4\n",
    "    frag number: length-128+1\n",
    "    '''\n",
    "    number = data.shape[0]-128+1\n",
    "    arr = np.ndarray([number,128,4])\n",
    "    for i in range(number):\n",
    "        arr[i] = data[i:i+128]\n",
    "    return arr\n",
    "\n",
    "frags ={}\n",
    "for i in range(540):\n",
    "    frags[i] = getfrag(onehotarr[i])\n",
    "    \n",
    "def convert_to_image(x):\n",
    "    m = (np.repeat(x, 4, axis=1)[np.newaxis, :, :]*np.tile(x, 4)[:, np.newaxis, :])\n",
    "    return m\n",
    "with h5py.File('known/pictures_540') as f:\n",
    "    for i in tqdm(range(540)):\n",
    "        datarr = np.ndarray([len(frags[i]),128,128,16])\n",
    "        for j in range(len(frags[i])):\n",
    "            datarr[j] = convert_to_image(frags[i][j])\n",
    "        f.create_dataset(str(i),data=datarr)\n",
    "#known/pictures_540\n",
    "#每个 str(i) 里存着一条序列的所有片段的图片\n",
    "frags ={}\n",
    "with h5py.File('known/pictures_540') as f:\n",
    "    with h5py.File('known/pictures_540_1') as t:\n",
    "        for i in tqdm(range(540)):\n",
    "            frags[i] =  f[str(i)][:]\n",
    "            t.create_dataset(str(i),data = f[str(i)][:-1])"
   ]
  },
  {
   "cell_type": "code",
   "execution_count": 7,
   "metadata": {},
   "outputs": [
    {
     "data": {
      "text/html": [
       "<div>\n",
       "<style scoped>\n",
       "    .dataframe tbody tr th:only-of-type {\n",
       "        vertical-align: middle;\n",
       "    }\n",
       "\n",
       "    .dataframe tbody tr th {\n",
       "        vertical-align: top;\n",
       "    }\n",
       "\n",
       "    .dataframe thead th {\n",
       "        text-align: right;\n",
       "    }\n",
       "</style>\n",
       "<table border=\"1\" class=\"dataframe\">\n",
       "  <thead>\n",
       "    <tr style=\"text-align: right;\">\n",
       "      <th></th>\n",
       "      <th>Unnamed: 0</th>\n",
       "      <th>2d_model</th>\n",
       "      <th>dense</th>\n",
       "    </tr>\n",
       "  </thead>\n",
       "  <tbody>\n",
       "    <tr>\n",
       "      <th>0</th>\n",
       "      <td>16s</td>\n",
       "      <td>0.511</td>\n",
       "      <td>0.597</td>\n",
       "    </tr>\n",
       "    <tr>\n",
       "      <th>1</th>\n",
       "      <td>23s</td>\n",
       "      <td>0.425</td>\n",
       "      <td>0.684</td>\n",
       "    </tr>\n",
       "    <tr>\n",
       "      <th>2</th>\n",
       "      <td>5s</td>\n",
       "      <td>0.479</td>\n",
       "      <td>0.628</td>\n",
       "    </tr>\n",
       "    <tr>\n",
       "      <th>3</th>\n",
       "      <td>RNaseP</td>\n",
       "      <td>0.471</td>\n",
       "      <td>0.634</td>\n",
       "    </tr>\n",
       "    <tr>\n",
       "      <th>4</th>\n",
       "      <td>grp1</td>\n",
       "      <td>0.488</td>\n",
       "      <td>0.587</td>\n",
       "    </tr>\n",
       "    <tr>\n",
       "      <th>5</th>\n",
       "      <td>grp2</td>\n",
       "      <td>0.577</td>\n",
       "      <td>0.524</td>\n",
       "    </tr>\n",
       "    <tr>\n",
       "      <th>6</th>\n",
       "      <td>srp</td>\n",
       "      <td>0.468</td>\n",
       "      <td>0.578</td>\n",
       "    </tr>\n",
       "    <tr>\n",
       "      <th>7</th>\n",
       "      <td>tRNA</td>\n",
       "      <td>0.474</td>\n",
       "      <td>0.563</td>\n",
       "    </tr>\n",
       "    <tr>\n",
       "      <th>8</th>\n",
       "      <td>telomerase</td>\n",
       "      <td>0.519</td>\n",
       "      <td>0.555</td>\n",
       "    </tr>\n",
       "    <tr>\n",
       "      <th>9</th>\n",
       "      <td>tmRNA</td>\n",
       "      <td>0.490</td>\n",
       "      <td>0.602</td>\n",
       "    </tr>\n",
       "  </tbody>\n",
       "</table>\n",
       "</div>"
      ],
      "text/plain": [
       "   Unnamed: 0  2d_model  dense\n",
       "0         16s     0.511  0.597\n",
       "1         23s     0.425  0.684\n",
       "2          5s     0.479  0.628\n",
       "3      RNaseP     0.471  0.634\n",
       "4        grp1     0.488  0.587\n",
       "5        grp2     0.577  0.524\n",
       "6         srp     0.468  0.578\n",
       "7        tRNA     0.474  0.563\n",
       "8  telomerase     0.519  0.555\n",
       "9       tmRNA     0.490  0.602"
      ]
     },
     "execution_count": 7,
     "metadata": {},
     "output_type": "execute_result"
    }
   ],
   "source": [
    "pd.read_csv('output/acc/acc_unet_cdsstride16_4.2')"
   ]
  },
  {
   "cell_type": "code",
   "execution_count": 9,
   "metadata": {},
   "outputs": [],
   "source": [
    "hist(np.loadtxt('output/acc/acc_unet_cdsstride16_4.2.txt'))"
   ]
  },
  {
   "cell_type": "code",
   "execution_count": null,
   "metadata": {},
   "outputs": [],
   "source": []
  }
 ],
 "metadata": {
  "kernelspec": {
   "display_name": "Python 2",
   "language": "python",
   "name": "python2"
  },
  "language_info": {
   "codemirror_mode": {
    "name": "ipython",
    "version": 2
   },
   "file_extension": ".py",
   "mimetype": "text/x-python",
   "name": "python",
   "nbconvert_exporter": "python",
   "pygments_lexer": "ipython2",
   "version": "2.7.14"
  }
 },
 "nbformat": 4,
 "nbformat_minor": 2
}
